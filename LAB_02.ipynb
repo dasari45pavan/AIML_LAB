{
  "nbformat": 4,
  "nbformat_minor": 0,
  "metadata": {
    "colab": {
      "provenance": [],
      "authorship_tag": "ABX9TyPcKfEGRyoL8e7oECO0/BTl",
      "include_colab_link": true
    },
    "kernelspec": {
      "name": "python3",
      "display_name": "Python 3"
    },
    "language_info": {
      "name": "python"
    }
  },
  "cells": [
    {
      "cell_type": "markdown",
      "metadata": {
        "id": "view-in-github",
        "colab_type": "text"
      },
      "source": [
        "<a href=\"https://colab.research.google.com/github/dasari45pavan/AIML_LAB/blob/main/LAB_02_.ipynb\" target=\"_parent\"><img src=\"https://colab.research.google.com/assets/colab-badge.svg\" alt=\"Open In Colab\"/></a>"
      ]
    },
    {
      "cell_type": "markdown",
      "source": [
        "Part-01 Implement BFS Algorithm"
      ],
      "metadata": {
        "id": "IHziIJrVoWoH"
      }
    },
    {
      "cell_type": "code",
      "source": [
        "from numpy import *"
      ],
      "metadata": {
        "id": "_chEy-lYojdU"
      },
      "execution_count": null,
      "outputs": []
    },
    {
      "cell_type": "code",
      "source": [
        "from queue import Queue\n",
        "graph={0:[1,3],1:[0,2,3],2:[4,1,5],3:[4,0,1],4:[2,3,5],5:[4,2],6:[]}\n",
        "print(f'the adjacency list is representing the graph {graph}')"
      ],
      "metadata": {
        "id": "dUY9YOQVoo6G",
        "colab": {
          "base_uri": "https://localhost:8080/"
        },
        "outputId": "9bdd3241-d37c-4efe-a8cd-8f705b60e002"
      },
      "execution_count": null,
      "outputs": [
        {
          "output_type": "stream",
          "name": "stdout",
          "text": [
            "the adjacency list is representing the graph {0: [1, 3], 1: [0, 2, 3], 2: [4, 1, 5], 3: [4, 0, 1], 4: [2, 3, 5], 5: [4, 2], 6: []}\n"
          ]
        }
      ]
    },
    {
      "cell_type": "code",
      "source": [
        "def bfs(graph,source):\n",
        "  Q=Queue()\n",
        "  visited_vertices=set()\n",
        "  Q.put(source)\n",
        "  visited_vertices.update({1})\n",
        "  while not Q.empty():\n",
        "    vertex=Q.get()\n",
        "    print(vertex,end=\"-->\")\n",
        "    for u in graph[vertex]:\n",
        "      if u not in  visited_vertices:\n",
        "        Q.put(u)\n",
        "        visited_vertices.update({u})\n",
        "print(\"bfs traversal of graph with source 1\")\n",
        "bfs(graph,1)"
      ],
      "metadata": {
        "id": "P6ozFoNEpxKM",
        "colab": {
          "base_uri": "https://localhost:8080/"
        },
        "outputId": "3243e0fb-4bd7-4e2f-d5cd-629d209174ad"
      },
      "execution_count": null,
      "outputs": [
        {
          "output_type": "stream",
          "name": "stdout",
          "text": [
            "bfs traversal of graph with source 1\n",
            "1-->0-->2-->3-->4-->5-->"
          ]
        }
      ]
    },
    {
      "cell_type": "markdown",
      "source": [
        "BFS algorithm -02"
      ],
      "metadata": {
        "id": "HGSVpY6_x0Tb"
      }
    },
    {
      "cell_type": "code",
      "source": [
        "#from stack import Stack\n",
        "graphs={'a':['b','s'],'b':['a'],'c':['s','e','f','d'],'d':['c','e'],'e':['h','c'],'f':['c','g'],'g':['s','f','h'],'h':['e','g'],'s':['a','c','g']}\n",
        "print(f'the adjacency list is representing the graph {graphs}')#from stack import Stack\n",
        "graphs={'a':['b','s'],'b':['a'],'c':['s','e','f','d'],'d':['c','e'],'e':['h','c'],'f':['c','g'],'g':['s','f','h'],'h':['e','g'],'s':['a','c','g']}\n",
        "print(f'the adjacency list is representing the graph {graphs}')"
      ],
      "metadata": {
        "id": "fXkeJjivueAe",
        "colab": {
          "base_uri": "https://localhost:8080/"
        },
        "outputId": "ce0cb09c-5f86-450b-cc7f-0ed037dbf541"
      },
      "execution_count": null,
      "outputs": [
        {
          "output_type": "stream",
          "name": "stdout",
          "text": [
            "the adjacency list is representing the graph {'a': ['b', 's'], 'b': ['a'], 'c': ['s', 'e', 'f', 'd'], 'd': ['c', 'e'], 'e': ['h', 'c'], 'f': ['c', 'g'], 'g': ['s', 'f', 'h'], 'h': ['e', 'g'], 's': ['a', 'c', 'g']}\n",
            "the adjacency list is representing the graph {'a': ['b', 's'], 'b': ['a'], 'c': ['s', 'e', 'f', 'd'], 'd': ['c', 'e'], 'e': ['h', 'c'], 'f': ['c', 'g'], 'g': ['s', 'f', 'h'], 'h': ['e', 'g'], 's': ['a', 'c', 'g']}\n"
          ]
        }
      ]
    },
    {
      "cell_type": "markdown",
      "source": [
        "PART-03 Implementation of A* Algorithm/OR Graph Search"
      ],
      "metadata": {
        "id": "A6WKP24j27Yc"
      }
    },
    {
      "cell_type": "code",
      "source": [
        "def dfs(graphs,node,visited):\n",
        "  if node not in visited:\n",
        "    visited.append(node)\n",
        "    for k in graphs[node]:\n",
        "      dfs(graphs,k,visited)\n",
        "  return visited\n",
        "visited=dfs(graphs,'d',[])\n",
        "print(visited)"
      ],
      "metadata": {
        "id": "swRrl6P43Lux",
        "colab": {
          "base_uri": "https://localhost:8080/"
        },
        "outputId": "9e19138d-566d-4ddc-bf4f-5383e96b94e1"
      },
      "execution_count": null,
      "outputs": [
        {
          "output_type": "stream",
          "name": "stdout",
          "text": [
            "['d', 'c', 's', 'a', 'b', 'g', 'f', 'h', 'e']\n"
          ]
        }
      ]
    }
  ]
}
